{
 "cells": [
  {
   "cell_type": "markdown",
   "metadata": {},
   "source": [
    "# \"A software artifact should be open for extension but closed for modification.\"\n",
    "- (Bertrand Meyer, 1988)"
   ]
  },
  {
   "cell_type": "markdown",
   "metadata": {},
   "source": [
    "this means that: If you don't have to change urself to be better, Instead you just have to upgrade urself to be better!"
   ]
  },
  {
   "cell_type": "code",
   "execution_count": 1,
   "metadata": {},
   "outputs": [],
   "source": [
    "# Example:\n",
    "# we have a fighter that can punch but he can't kick, instead of changing his whole code we could make a better version of him\n",
    "\n",
    "class joe():\n",
    "    def punch():\n",
    "        return super().Jonathan\n",
    "    \n",
    "class JoeNewSkill():\n",
    "    def kick():\n",
    "        return super().Jonathan\n",
    "\n",
    "class Jonathan():\n",
    "    super(joe)"
   ]
  }
 ],
 "metadata": {
  "kernelspec": {
   "display_name": "Python 3",
   "language": "python",
   "name": "python3"
  },
  "language_info": {
   "codemirror_mode": {
    "name": "ipython",
    "version": 3
   },
   "file_extension": ".py",
   "mimetype": "text/x-python",
   "name": "python",
   "nbconvert_exporter": "python",
   "pygments_lexer": "ipython3",
   "version": "3.10.8"
  },
  "orig_nbformat": 4
 },
 "nbformat": 4,
 "nbformat_minor": 2
}
