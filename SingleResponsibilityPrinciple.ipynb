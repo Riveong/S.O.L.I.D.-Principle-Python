{
 "cells": [
  {
   "cell_type": "markdown",
   "metadata": {},
   "source": [
    "# \"A module should be responsible to one, and only one, actor.\"\n",
    "- (Robert Cecil Martin, 2017)"
   ]
  },
  {
   "cell_type": "markdown",
   "metadata": {},
   "source": [
    "This means that:  \n",
    "- One class only have 1 purpose and responsibility\n",
    "- If a class have more that 1 responsibility, Then -> Divide the class into classes"
   ]
  },
  {
   "cell_type": "code",
   "execution_count": 2,
   "metadata": {},
   "outputs": [],
   "source": [
    "# Example:\n",
    "# we have 2 classes, each of them have their own responsibilities\n",
    "\n",
    "class offend:\n",
    "    def kick():\n",
    "        print(\"kicked!\")\n",
    "\n",
    "    def punch():\n",
    "        print(\"punched!\")\n",
    "\n",
    "    def AnnihilatedTheCurrentEnemySoThatTheyCanBeFreedFromTheirMisery():\n",
    "        print(\"bye~!\")\n",
    "\n",
    "class defend:\n",
    "    def protect():\n",
    "        print(\"protected!\")\n",
    "    \n",
    "    def shield():\n",
    "        print(\"shielded!\")"
   ]
  }
 ],
 "metadata": {
  "kernelspec": {
   "display_name": "Python 3",
   "language": "python",
   "name": "python3"
  },
  "language_info": {
   "codemirror_mode": {
    "name": "ipython",
    "version": 3
   },
   "file_extension": ".py",
   "mimetype": "text/x-python",
   "name": "python",
   "nbconvert_exporter": "python",
   "pygments_lexer": "ipython3",
   "version": "3.10.8"
  },
  "orig_nbformat": 4
 },
 "nbformat": 4,
 "nbformat_minor": 2
}
