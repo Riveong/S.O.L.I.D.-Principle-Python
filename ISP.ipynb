{
 "cells": [
  {
   "cell_type": "code",
   "execution_count": null,
   "metadata": {},
   "outputs": [],
   "source": [
    "class VehicleInterface:\n",
    "    def drive():\n",
    "        raise NotImplementedError\n",
    "    \n",
    "    def stop():\n",
    "        raise NotImplementedError\n",
    "    \n",
    "    def refuel():\n",
    "        raise NotImplementedError\n",
    " \n",
    "    def openDoors():\n",
    "        raise NotImplementedError\n",
    " \n",
    "class Motorcycle(VehicleInterface):\n",
    "    # Can be implemented\n",
    "    def drive():\n",
    "        pass\n",
    " \n",
    "    def stop():\n",
    "        pass\n",
    " \n",
    "    def refuel():\n",
    "        pass\n",
    " \n",
    "    # Cannot be implemented\n",
    "    def openDoors():\n",
    "        pass\n",
    "\n",
    "\n",
    "class Car(VehicleInterface, DoorInterface):\n",
    "    def drive():\n",
    "        pass\n",
    " \n",
    "    def stop():\n",
    "        pass\n",
    " \n",
    "    def refuel():\n",
    "        pass\n",
    " \n",
    "    def openDoors():\n",
    "        pass\n",
    "    "
   ]
  }
 ],
 "metadata": {
  "language_info": {
   "name": "python"
  },
  "orig_nbformat": 4
 },
 "nbformat": 4,
 "nbformat_minor": 2
}
