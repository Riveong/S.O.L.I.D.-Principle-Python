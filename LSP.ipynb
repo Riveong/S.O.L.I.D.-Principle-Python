{
 "cells": [
  {
   "cell_type": "code",
   "execution_count": null,
   "metadata": {},
   "outputs": [],
   "source": [
    "class Product:\n",
    "    def __init__(self):\n",
    "        pass\n",
    " \n",
    "    def getName():\n",
    "        pass\n",
    " \n",
    "    def getExpiredDate():\n",
    "        pass\n",
    " \n",
    "    # Function to get all of information about product\n",
    " \n",
    "    def getProductInfo():\n",
    "        pass # Some magic code\n",
    " \n",
    "class Vegetable(Product):\n",
    "    def getName():\n",
    "        return \"Broccoli\"\n",
    " \n",
    "    def getExpiredDate():\n",
    "        return datetime\n",
    " \n",
    "class Smartphone(Product):\n",
    "    def getName():\n",
    "        return \"Samsung S10+ Limited Edition\"\n",
    " \n",
    "    def getExpiredDate():\n",
    "        return datetime # ?????"
   ]
  }
 ],
 "metadata": {
  "language_info": {
   "name": "python"
  },
  "orig_nbformat": 4
 },
 "nbformat": 4,
 "nbformat_minor": 2
}
